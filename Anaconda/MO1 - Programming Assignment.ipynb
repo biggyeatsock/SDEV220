{
 "cells": [
  {
   "cell_type": "code",
   "execution_count": 2,
   "id": "0ac1ac67",
   "metadata": {},
   "outputs": [
    {
     "name": "stdout",
     "output_type": "stream",
     "text": [
      "3600\n"
     ]
    }
   ],
   "source": [
    "# Problem 3.1\n",
    "print(60*60)"
   ]
  },
  {
   "cell_type": "code",
   "execution_count": 11,
   "id": "3a604757",
   "metadata": {},
   "outputs": [],
   "source": [
    "# Problem 3.2\n",
    "seconds_per_hour = 3600"
   ]
  },
  {
   "cell_type": "code",
   "execution_count": 12,
   "id": "d0f276d0",
   "metadata": {},
   "outputs": [],
   "source": [
    "# Problem 3.3 / 3.4\n",
    "seconds_per_day = seconds_per_hour * 24"
   ]
  },
  {
   "cell_type": "code",
   "execution_count": 17,
   "id": "15d39818",
   "metadata": {},
   "outputs": [],
   "source": [
    "# Problem 3.5\n",
    "fpd = seconds_per_day / seconds_per_hour"
   ]
  },
  {
   "cell_type": "code",
   "execution_count": 20,
   "id": "905997f4",
   "metadata": {},
   "outputs": [
    {
     "name": "stdout",
     "output_type": "stream",
     "text": [
      "24.0 \n",
      "\n",
      "24\n"
     ]
    }
   ],
   "source": [
    "# Problem 3.6\n",
    "intd = seconds_per_day // seconds_per_hour\n",
    "\n",
    "print(fpd,'\\n')\n",
    "print(intd)"
   ]
  }
 ],
 "metadata": {
  "kernelspec": {
   "display_name": "Python 3 (ipykernel)",
   "language": "python",
   "name": "python3"
  },
  "language_info": {
   "codemirror_mode": {
    "name": "ipython",
    "version": 3
   },
   "file_extension": ".py",
   "mimetype": "text/x-python",
   "name": "python",
   "nbconvert_exporter": "python",
   "pygments_lexer": "ipython3",
   "version": "3.11.5"
  }
 },
 "nbformat": 4,
 "nbformat_minor": 5
}
