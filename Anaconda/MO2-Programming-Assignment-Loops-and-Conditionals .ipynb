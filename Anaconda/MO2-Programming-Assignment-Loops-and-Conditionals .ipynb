{
 "cells": [
  {
   "cell_type": "code",
   "execution_count": 3,
   "id": "5dd4ece3",
   "metadata": {},
   "outputs": [
    {
     "name": "stdout",
     "output_type": "stream",
     "text": [
      "Too Low\n"
     ]
    }
   ],
   "source": [
    "# Problem 4.1\n",
    "secret = 7\n",
    "guess = 3\n",
    "\n",
    "if guess == secret:\n",
    "    print('Just right')\n",
    "elif guess < secret:\n",
    "    print('Too Low')\n",
    "elif guess > secret:\n",
    "    print('Too High')"
   ]
  },
  {
   "cell_type": "code",
   "execution_count": 6,
   "id": "cd8b5f6f",
   "metadata": {},
   "outputs": [
    {
     "name": "stdout",
     "output_type": "stream",
     "text": [
      "Cherry, Pea\n",
      "Watermelon, Pea\n"
     ]
    }
   ],
   "source": [
    "# Problem 4.2\n",
    "small = True\n",
    "green = False\n",
    "\n",
    "\n",
    "if small == True:\n",
    "    print('Cherry, Pea')\n",
    "\n",
    "if green == False:\n",
    "    print('Watermelon, Pea')\n",
    "    "
   ]
  },
  {
   "cell_type": "code",
   "execution_count": 7,
   "id": "a6923b37",
   "metadata": {},
   "outputs": [
    {
     "name": "stdout",
     "output_type": "stream",
     "text": [
      "0\n",
      "1\n",
      "2\n",
      "3\n"
     ]
    }
   ],
   "source": [
    "# Problem 6.1\n",
    "nums = [3, 2, 1, 0]\n",
    "\n",
    "for num in nums:\n",
    "    print(nums[num]) "
   ]
  },
  {
   "cell_type": "code",
   "execution_count": 14,
   "id": "ac126240",
   "metadata": {
    "scrolled": true
   },
   "outputs": [
    {
     "name": "stdout",
     "output_type": "stream",
     "text": [
      "Too low\n",
      "Too low\n",
      "Too low\n",
      "Too low\n",
      "Too low\n",
      "Too low\n",
      "Found it!\n"
     ]
    }
   ],
   "source": [
    "# Problem 6.2\n",
    "guess_me = 7\n",
    "number = 1\n",
    "\n",
    "while number != guess_me:\n",
    "    if number > guess_me:\n",
    "        print('oops')\n",
    "        break\n",
    "    elif number < guess_me:\n",
    "        print('Too low')\n",
    "    number += 1\n",
    "\n",
    "if number == guess_me:\n",
    "    print('Found it!')\n",
    "        "
   ]
  },
  {
   "cell_type": "code",
   "execution_count": 15,
   "id": "f854a25a",
   "metadata": {},
   "outputs": [
    {
     "name": "stdout",
     "output_type": "stream",
     "text": [
      "Too low\n",
      "Too low\n",
      "Too low\n",
      "Too low\n",
      "Too low\n",
      "Found It\n"
     ]
    }
   ],
   "source": [
    "# Problem 6.3\n",
    "guess_me = 5\n",
    "for number in range(10):\n",
    "    if number > guess_me:\n",
    "        print('oops')\n",
    "        break\n",
    "    elif number == guess_me:\n",
    "        print('Found It')\n",
    "        break\n",
    "    elif number < guess_me:\n",
    "        print('Too low')\n",
    "    number +=1"
   ]
  }
 ],
 "metadata": {
  "kernelspec": {
   "display_name": "Python 3 (ipykernel)",
   "language": "python",
   "name": "python3"
  },
  "language_info": {
   "codemirror_mode": {
    "name": "ipython",
    "version": 3
   },
   "file_extension": ".py",
   "mimetype": "text/x-python",
   "name": "python",
   "nbconvert_exporter": "python",
   "pygments_lexer": "ipython3",
   "version": "3.11.5"
  }
 },
 "nbformat": 4,
 "nbformat_minor": 5
}
